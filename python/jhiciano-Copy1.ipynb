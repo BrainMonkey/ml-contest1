{
 "cells": [
  {
   "cell_type": "markdown",
   "metadata": {},
   "source": [
    "# Judge Hiciano Jupyter Notebook"
   ]
  },
  {
   "cell_type": "markdown",
   "metadata": {},
   "source": [
    "## Description of variables\n",
    "• sessionID: Session ID. 1-50000 in train.csv, 50001-55111 in test.csv.\n",
    "\n",
    "• hour: Hour when the session was started. Numbers between 0 and 23.\n",
    "\n",
    "• weekday: Day of the week when the session was started. 5: Friday, 6: Saturday, 7: Sunday, 1: Monday.\n",
    "\n",
    "• duration: Time in seconds passed since the start of the session.\n",
    "\n",
    "• clickCount: Number of products that were visited (clicked).\n",
    "\n",
    "• clickMin: Lowest price of the products visited (clicked).\n",
    "\n",
    "• clickMax: Highest price of the products visited (clicked).\n",
    "\n",
    "• clickTotal: Sum of the prices of all the products visited (clicked).\n",
    "\n",
    "• cartCount: Number of products that were added to the cart.\n",
    "\n",
    "• cartMin: Lowest price of the products in the cart.\n",
    "\n",
    "• cartMax: Highest price of the products in the cart.\n",
    "\n",
    "• cartTotal: Sum of the prices of all the products in the cart.\n",
    "\n",
    "• cartStep: Purchase processing step. Possible values: 1,2,3,4,5.\n",
    "\n",
    "• status: Whether the customer is online. ‘y’: yes. ‘n’: no.\n",
    "\n",
    "• availability: Whether the cart is orderable or not. There are seven possible values.\n",
    "\n",
    "• customerID: customer ID. 1-25038 in train.csv. In test.csv there exist both old and new customers.\n",
    "\n",
    "• purchase: Highest purchase price in history for the customer.\n",
    "\n",
    "• score: Customer score evaluated by the online store.\n",
    "\n",
    "• account: Lifetime of the customer’s account in months.\n",
    "\n",
    "• payments: Number of payments made by the customer.\n",
    "\n",
    "• age: Age of the customer.\n",
    "\n",
    "• salutation: Salutation of the customer. 1: Mr, 2: Ms, 3: Company.\n",
    "\n",
    "• lastOrder: Time in days passed since the last order.\n",
    "\n",
    "• order: (Response variable) Whether the order is placed. ‘y’: yes. ‘n’: no.\n"
   ]
  },
  {
   "cell_type": "code",
   "execution_count": 94,
   "metadata": {},
   "outputs": [],
   "source": [
    "# Imports required for project\n",
    "import pandas as pd\n",
    "import numpy as np\n",
    "import seaborn as sns\n",
    "import sklearn as sk\n",
    "import statsmodels\n",
    "\n",
    "# Plotting\n",
    "import matplotlib.pyplot as plt\n",
    "from matplotlib.legend_handler import HandlerLine2D\n",
    "\n",
    "from pprint import pprint\n",
    "\n",
    "# sklearn Metrics and tunning\n",
    "from sklearn.metrics import classification_report,confusion_matrix\n",
    "from sklearn.model_selection import KFold, cross_val_score, train_test_split\n",
    "\n",
    "#import machine learning related libraries\n",
    "from sklearn.ensemble import RandomForestClassifier\n",
    "from sklearn.ensemble import AdaBoostClassifier\n",
    "from sklearn.ensemble import BaggingClassifier\n",
    "from sklearn.ensemble import GradientBoostingClassifier\n",
    "from sklearn.experimental import enable_hist_gradient_boosting\n",
    "from sklearn.ensemble import HistGradientBoostingClassifier\n",
    "from sklearn.multioutput import MultiOutputClassifier\n",
    "\n",
    "import xgboost as xgb\n",
    "\n"
   ]
  },
  {
   "cell_type": "code",
   "execution_count": 237,
   "metadata": {},
   "outputs": [],
   "source": [
    "pd.options.display.max_rows = 50000\n",
    "pd.set_option('display.max_columns', None)  \n",
    "pd.set_option('display.max_colwidth', -1)"
   ]
  },
  {
   "cell_type": "code",
   "execution_count": 238,
   "metadata": {},
   "outputs": [],
   "source": [
    "df_train = pd.read_csv(\"../data/train.csv\") \n",
    "df_test = pd.read_csv(\"../data/test.csv\")"
   ]
  },
  {
   "cell_type": "code",
   "execution_count": 239,
   "metadata": {},
   "outputs": [],
   "source": [
    "common_drops = ['sessionID',\n",
    "                'customerID',\n",
    "                'weekday',\n",
    "#                 'status',\n",
    "#                'availability',\n",
    "#                 'cartStep',\n",
    "                 'purchase',\n",
    "#                 'score',                 \n",
    "                'payments',\n",
    "                'account',\n",
    "                'lastOrder',\n",
    "                 'salutation',\n",
    "                 'age',\n",
    "#                 'cartCount',\n",
    "#                 'clickMin',\n",
    "#                 'cartMin',\n",
    "#                 'hour',\n",
    "                'duration',\n",
    "#                 'clickCount',\n",
    "#                 'clickMax',\n",
    "#                 'cartMax',\n",
    "#                 'clickTotal',\n",
    "#                 'cartTotal'\n",
    "               ]\n",
    "\n",
    "#common_drops = ['sessionID','hour','weekday','duration','clickTotal']\n",
    "drop_columns_train = common_drops\n",
    "drop_columns_submission = common_drops"
   ]
  },
  {
   "cell_type": "markdown",
   "metadata": {},
   "source": [
    "## Feature Enigneering on Training Data"
   ]
  },
  {
   "cell_type": "markdown",
   "metadata": {},
   "source": [
    "### Adding new variables to train and fill missing values for certain columns"
   ]
  },
  {
   "cell_type": "code",
   "execution_count": 252,
   "metadata": {},
   "outputs": [],
   "source": [
    "def feat_eng(df_train, train=False):\n",
    "    \"\"\" Added additional features to dataframe and returns two dataframes.\n",
    "            customer and non-customer dataframe\n",
    "    \"\"\"\n",
    "    # Get a total number of entries per sessionID\n",
    "    df_train['sess_count'] = df_train.groupby('sessionID')['sessionID'].transform('count')\n",
    "\n",
    "    # Get a count of the number of customer \n",
    "    df_train['customer_total_orders'] = df_train.groupby('customerID')['customerID'].transform('count')\n",
    "\n",
    "    # Gets the total duration for a given session\n",
    "    df_train['total_duration'] = df_train.groupby('sessionID')['duration'].transform('sum')\n",
    "\n",
    "    # Fills cartStep NaN with -1\n",
    "    df_train['cartStep'].fillna(-1, inplace=True)\n",
    "\n",
    "    # Gets the difference between clickTotal and CartTotal\n",
    "    df_train['missing_items_total'] = df_train['clickTotal']-df_train['cartTotal']\n",
    "\n",
    "    # Converts order and status from y and n to 1 and 0\n",
    "    if train:\n",
    "        df_train['ordered'] = (df_train['order'] !='n').astype(int) #Converts string `order` to int value for training\n",
    "        \n",
    "    df_train['status'] = (df_train['status'] !='n').astype(int) #Converts string `order` to int value for training\n",
    "    \n",
    "    # Drop Columns\n",
    "    df_train = df_train.drop(\"availability\",axis=1)\n",
    "    df_train = df_train.drop(\"weekday\",axis=1)\n",
    "    df_train = df_train.drop(\"status\",axis=1)\n",
    "\n",
    "    cust = df_train[df_train['customerID'].notnull()]\n",
    "    noncust =df_train[df_train['customerID'].isnull()]\n",
    "    cust.fillna(-1, inplace=True)\n",
    "    noncust.fillna(-1, inplace=True)\n",
    "    \n",
    "    return cust , noncust"
   ]
  },
  {
   "cell_type": "code",
   "execution_count": 253,
   "metadata": {},
   "outputs": [
    {
     "name": "stderr",
     "output_type": "stream",
     "text": [
      "/opt/conda/lib/python3.7/site-packages/pandas/core/ops/__init__.py:1115: FutureWarning: elementwise comparison failed; returning scalar instead, but in the future will perform elementwise comparison\n",
      "  result = method(y)\n",
      "/opt/conda/lib/python3.7/site-packages/pandas/core/frame.py:4259: SettingWithCopyWarning: \n",
      "A value is trying to be set on a copy of a slice from a DataFrame\n",
      "\n",
      "See the caveats in the documentation: http://pandas.pydata.org/pandas-docs/stable/user_guide/indexing.html#returning-a-view-versus-a-copy\n",
      "  **kwargs\n"
     ]
    }
   ],
   "source": [
    "df_train_cust, df_train_noncust = feat_eng(df_train, True)\n",
    "df_test_cust, df_test_noncust = feat_eng(df_test)"
   ]
  },
  {
   "cell_type": "markdown",
   "metadata": {},
   "source": [
    "### Customer Dataset"
   ]
  },
  {
   "cell_type": "code",
   "execution_count": 254,
   "metadata": {},
   "outputs": [
    {
     "name": "stdout",
     "output_type": "stream",
     "text": [
      "<class 'pandas.core.frame.DataFrame'>\n",
      "Int64Index: 277915 entries, 0 to 429012\n",
      "Data columns (total 26 columns):\n",
      "sessionID                277915 non-null int64\n",
      "hour                     277915 non-null int64\n",
      "duration                 277915 non-null float64\n",
      "clickCount               277915 non-null int64\n",
      "clickMin                 277915 non-null float64\n",
      "clickMax                 277915 non-null float64\n",
      "clickTotal               277915 non-null float64\n",
      "cartCount                277915 non-null int64\n",
      "cartMin                  277915 non-null float64\n",
      "cartMax                  277915 non-null float64\n",
      "cartTotal                277915 non-null float64\n",
      "cartStep                 277915 non-null float64\n",
      "customerID               277915 non-null float64\n",
      "purchase                 277915 non-null float64\n",
      "score                    277915 non-null float64\n",
      "account                  277915 non-null float64\n",
      "payments                 277915 non-null float64\n",
      "age                      277915 non-null float64\n",
      "salutation               277915 non-null float64\n",
      "lastOrder                277915 non-null float64\n",
      "order                    277915 non-null object\n",
      "sess_count               277915 non-null int64\n",
      "customer_total_orders    277915 non-null float64\n",
      "total_duration           277915 non-null float64\n",
      "missing_items_total      277915 non-null float64\n",
      "ordered                  277915 non-null int64\n",
      "dtypes: float64(19), int64(6), object(1)\n",
      "memory usage: 57.2+ MB\n",
      "<class 'pandas.core.frame.DataFrame'>\n",
      "Int64Index: 151098 entries, 3 to 429008\n",
      "Data columns (total 26 columns):\n",
      "sessionID                151098 non-null int64\n",
      "hour                     151098 non-null int64\n",
      "duration                 151098 non-null float64\n",
      "clickCount               151098 non-null int64\n",
      "clickMin                 151098 non-null float64\n",
      "clickMax                 151098 non-null float64\n",
      "clickTotal               151098 non-null float64\n",
      "cartCount                151098 non-null int64\n",
      "cartMin                  151098 non-null float64\n",
      "cartMax                  151098 non-null float64\n",
      "cartTotal                151098 non-null float64\n",
      "cartStep                 151098 non-null float64\n",
      "customerID               151098 non-null float64\n",
      "purchase                 151098 non-null float64\n",
      "score                    151098 non-null float64\n",
      "account                  151098 non-null float64\n",
      "payments                 151098 non-null float64\n",
      "age                      151098 non-null float64\n",
      "salutation               151098 non-null float64\n",
      "lastOrder                151098 non-null float64\n",
      "order                    151098 non-null object\n",
      "sess_count               151098 non-null int64\n",
      "customer_total_orders    151098 non-null float64\n",
      "total_duration           151098 non-null float64\n",
      "missing_items_total      151098 non-null float64\n",
      "ordered                  151098 non-null int64\n",
      "dtypes: float64(19), int64(6), object(1)\n",
      "memory usage: 31.1+ MB\n"
     ]
    }
   ],
   "source": [
    "df_train_cust.info()\n",
    "df_train_noncust.info()"
   ]
  },
  {
   "cell_type": "markdown",
   "metadata": {},
   "source": [
    "### Non-Customer Dataset"
   ]
  },
  {
   "cell_type": "markdown",
   "metadata": {},
   "source": [
    "#### Drop customer related columns from non-customer dataset"
   ]
  },
  {
   "cell_type": "code",
   "execution_count": 255,
   "metadata": {},
   "outputs": [],
   "source": [
    "common_columns = ['customer_total_orders','customerID','purchase','score','account','payments','age','salutation','lastOrder']\n",
    "drop_columns_submission_train = common_columns + ['order']\n",
    "drop_columns_submission_test = common_columns\n",
    "df_train_noncust = df_train_noncust.drop(drop_columns_submission_train,axis=1)\n",
    "df_test_noncust = df_test_noncust.drop(drop_columns_submission_test,axis=1)"
   ]
  },
  {
   "cell_type": "code",
   "execution_count": 256,
   "metadata": {},
   "outputs": [
    {
     "name": "stdout",
     "output_type": "stream",
     "text": [
      "<class 'pandas.core.frame.DataFrame'>\n",
      "Int64Index: 151098 entries, 3 to 429008\n",
      "Data columns (total 16 columns):\n",
      "sessionID              151098 non-null int64\n",
      "hour                   151098 non-null int64\n",
      "duration               151098 non-null float64\n",
      "clickCount             151098 non-null int64\n",
      "clickMin               151098 non-null float64\n",
      "clickMax               151098 non-null float64\n",
      "clickTotal             151098 non-null float64\n",
      "cartCount              151098 non-null int64\n",
      "cartMin                151098 non-null float64\n",
      "cartMax                151098 non-null float64\n",
      "cartTotal              151098 non-null float64\n",
      "cartStep               151098 non-null float64\n",
      "sess_count             151098 non-null int64\n",
      "total_duration         151098 non-null float64\n",
      "missing_items_total    151098 non-null float64\n",
      "ordered                151098 non-null int64\n",
      "dtypes: float64(10), int64(6)\n",
      "memory usage: 19.6 MB\n",
      "<class 'pandas.core.frame.DataFrame'>\n",
      "Int64Index: 17264 entries, 54 to 45067\n",
      "Data columns (total 15 columns):\n",
      "sessionID              17264 non-null int64\n",
      "hour                   17264 non-null int64\n",
      "duration               17264 non-null float64\n",
      "clickCount             17264 non-null int64\n",
      "clickMin               17264 non-null float64\n",
      "clickMax               17264 non-null float64\n",
      "clickTotal             17264 non-null float64\n",
      "cartCount              17264 non-null int64\n",
      "cartMin                17264 non-null float64\n",
      "cartMax                17264 non-null float64\n",
      "cartTotal              17264 non-null float64\n",
      "cartStep               17264 non-null float64\n",
      "sess_count             17264 non-null int64\n",
      "total_duration         17264 non-null float64\n",
      "missing_items_total    17264 non-null float64\n",
      "dtypes: float64(10), int64(5)\n",
      "memory usage: 2.1 MB\n"
     ]
    }
   ],
   "source": [
    "df_train_noncust.info()\n",
    "df_test_noncust.info()"
   ]
  },
  {
   "cell_type": "markdown",
   "metadata": {},
   "source": [
    "## Adjust Testing Data Set"
   ]
  },
  {
   "cell_type": "code",
   "execution_count": 257,
   "metadata": {},
   "outputs": [],
   "source": [
    "def match_column(df_train, df_test):\n",
    "    column_order = []\n",
    "    for col in df_train.columns: \n",
    "        column_order.append(col)\n",
    "    print(column_order)\n",
    "    column_order.remove('ordered')\n",
    "    return df_test[column_order]\n"
   ]
  },
  {
   "cell_type": "code",
   "execution_count": 258,
   "metadata": {},
   "outputs": [
    {
     "name": "stdout",
     "output_type": "stream",
     "text": [
      "['sessionID', 'hour', 'duration', 'clickCount', 'clickMin', 'clickMax', 'clickTotal', 'cartCount', 'cartMin', 'cartMax', 'cartTotal', 'cartStep', 'sess_count', 'total_duration', 'missing_items_total', 'ordered']\n",
      "<class 'pandas.core.frame.DataFrame'>\n",
      "Int64Index: 17264 entries, 54 to 45067\n",
      "Data columns (total 15 columns):\n",
      "sessionID              17264 non-null int64\n",
      "hour                   17264 non-null int64\n",
      "duration               17264 non-null float64\n",
      "clickCount             17264 non-null int64\n",
      "clickMin               17264 non-null float64\n",
      "clickMax               17264 non-null float64\n",
      "clickTotal             17264 non-null float64\n",
      "cartCount              17264 non-null int64\n",
      "cartMin                17264 non-null float64\n",
      "cartMax                17264 non-null float64\n",
      "cartTotal              17264 non-null float64\n",
      "cartStep               17264 non-null float64\n",
      "sess_count             17264 non-null int64\n",
      "total_duration         17264 non-null float64\n",
      "missing_items_total    17264 non-null float64\n",
      "dtypes: float64(10), int64(5)\n",
      "memory usage: 2.1 MB\n",
      "<class 'pandas.core.frame.DataFrame'>\n",
      "Int64Index: 151098 entries, 3 to 429008\n",
      "Data columns (total 16 columns):\n",
      "sessionID              151098 non-null int64\n",
      "hour                   151098 non-null int64\n",
      "duration               151098 non-null float64\n",
      "clickCount             151098 non-null int64\n",
      "clickMin               151098 non-null float64\n",
      "clickMax               151098 non-null float64\n",
      "clickTotal             151098 non-null float64\n",
      "cartCount              151098 non-null int64\n",
      "cartMin                151098 non-null float64\n",
      "cartMax                151098 non-null float64\n",
      "cartTotal              151098 non-null float64\n",
      "cartStep               151098 non-null float64\n",
      "sess_count             151098 non-null int64\n",
      "total_duration         151098 non-null float64\n",
      "missing_items_total    151098 non-null float64\n",
      "ordered                151098 non-null int64\n",
      "dtypes: float64(10), int64(6)\n",
      "memory usage: 19.6 MB\n"
     ]
    }
   ],
   "source": [
    "df_test_noncust = match_column(df_train_noncust,df_test_noncust)\n",
    "df_test_noncust.info()\n",
    "df_train_noncust.info()"
   ]
  },
  {
   "cell_type": "code",
   "execution_count": 259,
   "metadata": {},
   "outputs": [
    {
     "name": "stdout",
     "output_type": "stream",
     "text": [
      "['sessionID', 'hour', 'duration', 'clickCount', 'clickMin', 'clickMax', 'clickTotal', 'cartCount', 'cartMin', 'cartMax', 'cartTotal', 'cartStep', 'customerID', 'purchase', 'score', 'account', 'payments', 'age', 'salutation', 'lastOrder', 'sess_count', 'customer_total_orders', 'total_duration', 'missing_items_total', 'ordered']\n",
      "<class 'pandas.core.frame.DataFrame'>\n",
      "Int64Index: 27804 entries, 0 to 45039\n",
      "Data columns (total 24 columns):\n",
      "sessionID                27804 non-null int64\n",
      "hour                     27804 non-null int64\n",
      "duration                 27804 non-null float64\n",
      "clickCount               27804 non-null int64\n",
      "clickMin                 27804 non-null float64\n",
      "clickMax                 27804 non-null float64\n",
      "clickTotal               27804 non-null float64\n",
      "cartCount                27804 non-null int64\n",
      "cartMin                  27804 non-null float64\n",
      "cartMax                  27804 non-null float64\n",
      "cartTotal                27804 non-null float64\n",
      "cartStep                 27804 non-null float64\n",
      "customerID               27804 non-null float64\n",
      "purchase                 27804 non-null float64\n",
      "score                    27804 non-null float64\n",
      "account                  27804 non-null float64\n",
      "payments                 27804 non-null float64\n",
      "age                      27804 non-null float64\n",
      "salutation               27804 non-null float64\n",
      "lastOrder                27804 non-null float64\n",
      "sess_count               27804 non-null int64\n",
      "customer_total_orders    27804 non-null float64\n",
      "total_duration           27804 non-null float64\n",
      "missing_items_total      27804 non-null float64\n",
      "dtypes: float64(19), int64(5)\n",
      "memory usage: 5.3 MB\n",
      "<class 'pandas.core.frame.DataFrame'>\n",
      "Int64Index: 277915 entries, 0 to 429012\n",
      "Data columns (total 25 columns):\n",
      "sessionID                277915 non-null int64\n",
      "hour                     277915 non-null int64\n",
      "duration                 277915 non-null float64\n",
      "clickCount               277915 non-null int64\n",
      "clickMin                 277915 non-null float64\n",
      "clickMax                 277915 non-null float64\n",
      "clickTotal               277915 non-null float64\n",
      "cartCount                277915 non-null int64\n",
      "cartMin                  277915 non-null float64\n",
      "cartMax                  277915 non-null float64\n",
      "cartTotal                277915 non-null float64\n",
      "cartStep                 277915 non-null float64\n",
      "customerID               277915 non-null float64\n",
      "purchase                 277915 non-null float64\n",
      "score                    277915 non-null float64\n",
      "account                  277915 non-null float64\n",
      "payments                 277915 non-null float64\n",
      "age                      277915 non-null float64\n",
      "salutation               277915 non-null float64\n",
      "lastOrder                277915 non-null float64\n",
      "sess_count               277915 non-null int64\n",
      "customer_total_orders    277915 non-null float64\n",
      "total_duration           277915 non-null float64\n",
      "missing_items_total      277915 non-null float64\n",
      "ordered                  277915 non-null int64\n",
      "dtypes: float64(19), int64(6)\n",
      "memory usage: 55.1 MB\n"
     ]
    }
   ],
   "source": [
    "df_train_cust = df_train_cust.drop(\"order\",axis=1)\n",
    "df_test_cust = match_column(df_train_cust, df_test_cust)\n",
    "df_test_cust.info()\n",
    "df_train_cust.info()"
   ]
  },
  {
   "cell_type": "markdown",
   "metadata": {},
   "source": [
    "## Create training and testing datasets"
   ]
  },
  {
   "cell_type": "code",
   "execution_count": 260,
   "metadata": {},
   "outputs": [],
   "source": [
    "X, y = df_train_noncust.drop(['ordered'],axis=1), df_train_noncust.ordered\n",
    "X_train, X_test, y_train, y_test = train_test_split(X, y, test_size=0.2, random_state=68)"
   ]
  },
  {
   "cell_type": "code",
   "execution_count": 176,
   "metadata": {},
   "outputs": [],
   "source": [
    "X, y = df_train_cust.drop(['ordered'],axis=1), df_train_cust.ordered\n",
    "X_train, X_test, y_train, y_test = train_test_split(X, y, test_size=0.2, random_state=68)"
   ]
  },
  {
   "cell_type": "code",
   "execution_count": 264,
   "metadata": {},
   "outputs": [
    {
     "name": "stdout",
     "output_type": "stream",
     "text": [
      "RF Tunned [0.96299728 0.9639817  0.96143155 0.96571693 0.96525365 0.96276349\n",
      " 0.96658559]\n",
      "Ada [0.70641033 0.7021831  0.70540885 0.70147093 0.70662497 0.69845958\n",
      " 0.70303451]\n",
      "XGB [0.85418959 0.86275986 0.86286773 0.86385221 0.86472087 0.86188325\n",
      " 0.85962474]\n",
      "Bagging [0.9415137  0.94359836 0.94388464 0.93774612 0.94625898 0.94017836\n",
      " 0.94683808]\n",
      "Gradient [0.72876252 0.72656205 0.7303104  0.72909428 0.72984712 0.72747278\n",
      " 0.73245309]\n"
     ]
    }
   ],
   "source": [
    "#create an array of models as base to see what has highest base score to select for tuning\n",
    "models = []\n",
    "\n",
    "#models.append((\"RF\",RandomForestClassifier()))\n",
    "models.append((\"RF Tunned\",RandomForestClassifier(max_depth = 35,\n",
    "                                                  n_estimators= 40,\n",
    "                                                  random_state=0,\n",
    "                                                  max_features='auto',\n",
    "                                                  bootstrap=False,\n",
    "                                                  min_samples_leaf=1,\n",
    "                                                  min_samples_split=2)))\n",
    "models.append((\"Ada\",AdaBoostClassifier()))\n",
    "models.append((\"XGB\",xgb.XGBClassifier()))\n",
    "models.append((\"Bagging\",BaggingClassifier()))\n",
    "models.append((\"Gradient\",GradientBoostingClassifier()))\n",
    "#models.append((\"Hist\",HistGradientBoostingClassifier,GradientBoostingClassifier()))\n",
    "\n",
    "\n",
    "#measure the accuracy \n",
    "for name,model in models:\n",
    "    kfold = KFold(n_splits=7, random_state=22, shuffle=True)\n",
    "    cv_result = cross_val_score(model,X_train,y_train, cv = kfold, scoring = \"accuracy\")\n",
    "    print(name, cv_result)"
   ]
  },
  {
   "cell_type": "markdown",
   "metadata": {},
   "source": [
    "Source for Parameter running randomforest:\n",
    "    \n",
    "https://medium.com/all-things-ai/in-depth-parameter-tuning-for-random-forest-d67bb7e920d"
   ]
  },
  {
   "cell_type": "code",
   "execution_count": 100,
   "metadata": {},
   "outputs": [
    {
     "data": {
      "image/png": "[encoded data removed]",
      "text/plain": [
       "<Figure size 432x288 with 1 Axes>"
      ]
     },
     "metadata": {
      "needs_background": "light"
     },
     "output_type": "display_data"
    }
   ],
   "source": [
    "from sklearn.metrics import roc_curve, auc\n",
    "n_estimators = [1, 2, 4, 8, 16, 19,24,26, 32,48]\n",
    "train_results = []\n",
    "test_results = []\n",
    "for estimator in n_estimators:\n",
    "    rf = RandomForestClassifier(n_estimators=estimator, n_jobs=-1)\n",
    "    rf.fit(X_train, y_train)\n",
    "    train_pred = rf.predict(X_train)\n",
    "    false_positive_rate, true_positive_rate, thresholds = roc_curve(y_train, train_pred)\n",
    "    roc_auc = auc(false_positive_rate, true_positive_rate)\n",
    "    train_results.append(roc_auc)\n",
    "    y_pred = rf.predict(X_test)\n",
    "    false_positive_rate, true_positive_rate, thresholds = roc_curve(y_test, y_pred)\n",
    "    roc_auc = auc(false_positive_rate, true_positive_rate)\n",
    "    test_results.append(roc_auc)\n",
    "    \n",
    "from matplotlib.legend_handler import HandlerLine2D\n",
    "line1, = plt.plot(n_estimators, train_results, 'b', label=\"Train AUC\")\n",
    "line2, = plt.plot(n_estimators, test_results, 'r', label=\"Test AUC\")\n",
    "plt.legend(handler_map={line1: HandlerLine2D(numpoints=2)})\n",
    "plt.ylabel(\"AUC score\")\n",
    "plt.xlabel(\"n_estimators\")\n",
    "plt.show()"
   ]
  },
  {
   "cell_type": "code",
   "execution_count": 101,
   "metadata": {},
   "outputs": [
    {
     "data": {
      "image/png": "[encoded data removed]",
      "text/plain": [
       "<Figure size 432x288 with 1 Axes>"
      ]
     },
     "metadata": {
      "needs_background": "light"
     },
     "output_type": "display_data"
    }
   ],
   "source": [
    "max_depths = np.linspace(10, 50, 40, endpoint=True)\n",
    "train_results = []\n",
    "test_results = []\n",
    "\n",
    "# Loop through each of the max depths and train\n",
    "for max_depth in max_depths:\n",
    "    rf = RandomForestClassifier(max_depth=max_depth, n_jobs=-1)\n",
    "    rf.fit(X_train, y_train)\n",
    "    train_pred = rf.predict(X_train)\n",
    "    false_positive_rate, true_positive_rate, thresholds = roc_curve(y_train, train_pred)\n",
    "    roc_auc = auc(false_positive_rate, true_positive_rate)\n",
    "    train_results.append(roc_auc)\n",
    "    y_pred = rf.predict(X_test)\n",
    "    false_positive_rate, true_positive_rate, thresholds = roc_curve(y_test, y_pred)\n",
    "    roc_auc = auc(false_positive_rate, true_positive_rate)\n",
    "    test_results.append(roc_auc)\n",
    "\n",
    "line1, = plt.plot(max_depths, train_results,'b', label=\"Train AUC\")\n",
    "line2, = plt.plot(max_depths, test_results, 'r', label=\"Test AUC\")\n",
    "plt.legend(handler_map={line1: HandlerLine2D(numpoints=2)})\n",
    "plt.ylabel('AUC score')\n",
    "plt.xlabel('Tree depth')\n",
    "plt.show()"
   ]
  },
  {
   "cell_type": "code",
   "execution_count": 119,
   "metadata": {},
   "outputs": [],
   "source": [
    "from sklearn.model_selection import RandomizedSearchCV\n",
    "# Number of trees in random forest\n",
    "n_estimators = [int(x) for x in np.linspace(start = 20, stop = 50, num = 30)]\n",
    "# Number of features to consider at every split\n",
    "max_features = ['auto', 'sqrt', 'log2']\n",
    "# Maximum number of levels in tree\n",
    "max_depth = [int(x) for x in np.linspace(10, 50, num = 40)]\n",
    "max_depth.append(None)\n",
    "# Minimum number of samples required to split a node\n",
    "min_samples_split = [2, 3,4,5, 10,]\n",
    "# Minimum number of samples required at each leaf node\n",
    "min_samples_leaf = [1, 2, 3, 4, 6, 8]\n",
    "# Method of selecting samples for training each tree\n",
    "bootstrap = [True]\n",
    "oob_score=[True]\n",
    "# Create the random grid\n",
    "random_grid = {'n_estimators': n_estimators,\n",
    "               'max_features': max_features,\n",
    "               'max_depth': max_depth,\n",
    "               'min_samples_split': min_samples_split,\n",
    "               'min_samples_leaf': min_samples_leaf,\n",
    "               'bootstrap': bootstrap,\n",
    "               'oob_score': oob_score\n",
    "              }\n"
   ]
  },
  {
   "cell_type": "code",
   "execution_count": 120,
   "metadata": {},
   "outputs": [
    {
     "name": "stdout",
     "output_type": "stream",
     "text": [
      "Fitting 7 folds for each of 25 candidates, totalling 175 fits\n"
     ]
    },
    {
     "name": "stderr",
     "output_type": "stream",
     "text": [
      "[Parallel(n_jobs=-1)]: Using backend LokyBackend with 9 concurrent workers.\n",
      "/opt/conda/lib/python3.7/site-packages/joblib/externals/loky/process_executor.py:706: UserWarning: A worker stopped while some jobs were given to the executor. This can be caused by a too short worker timeout or by a memory leak.\n",
      "  \"timeout or by a memory leak.\", UserWarning\n",
      "[Parallel(n_jobs=-1)]: Done  54 tasks      | elapsed:  7.7min\n",
      "[Parallel(n_jobs=-1)]: Done 144 tasks      | elapsed: 19.4min\n",
      "[Parallel(n_jobs=-1)]: Done 175 out of 175 | elapsed: 22.6min finished\n"
     ]
    },
    {
     "data": {
      "text/plain": [
       "RandomizedSearchCV(cv=7, error_score=nan,\n",
       "                   estimator=RandomForestClassifier(bootstrap=True,\n",
       "                                                    ccp_alpha=0.0,\n",
       "                                                    class_weight=None,\n",
       "                                                    criterion='gini',\n",
       "                                                    max_depth=None,\n",
       "                                                    max_features='auto',\n",
       "                                                    max_leaf_nodes=None,\n",
       "                                                    max_samples=None,\n",
       "                                                    min_impurity_decrease=0.0,\n",
       "                                                    min_impurity_split=None,\n",
       "                                                    min_samples_leaf=1,\n",
       "                                                    min_samples_split=2,\n",
       "                                                    min_weight_fraction_leaf=0.0,\n",
       "                                                    n_estimators=100,\n",
       "                                                    n_jobs...\n",
       "                                                      34, 35, 36, 37, 38, 39, ...],\n",
       "                                        'max_features': ['auto', 'sqrt',\n",
       "                                                         'log2'],\n",
       "                                        'min_samples_leaf': [1, 2, 3, 4, 6, 8],\n",
       "                                        'min_samples_split': [2, 3, 4, 5, 10],\n",
       "                                        'n_estimators': [20, 21, 22, 23, 24, 25,\n",
       "                                                         26, 27, 28, 29, 30, 31,\n",
       "                                                         32, 33, 34, 35, 36, 37,\n",
       "                                                         38, 39, 40, 41, 42, 43,\n",
       "                                                         44, 45, 46, 47, 48,\n",
       "                                                         50],\n",
       "                                        'oob_score': [True]},\n",
       "                   pre_dispatch='2*n_jobs', random_state=42, refit=True,\n",
       "                   return_train_score=False, scoring=None, verbose=5)"
      ]
     },
     "execution_count": 120,
     "metadata": {},
     "output_type": "execute_result"
    }
   ],
   "source": [
    "# Use the random grid to search for best hyperparameters\n",
    "# First create the base model to tune\n",
    "rc = RandomForestClassifier()\n",
    "# Random search of parameters, using 3 fold cross validation, \n",
    "# search across 100 different combinations, and use all available cores\n",
    "rc_random = RandomizedSearchCV(estimator = rc,\n",
    "                               param_distributions = random_grid,\n",
    "                               n_iter = 25,\n",
    "                               cv = 7,\n",
    "                               verbose=5,\n",
    "                               random_state=42,\n",
    "                               n_jobs = -1)\n",
    "# Fit the random search model\n",
    "rc_random.fit(X_train, y_train)"
   ]
  },
  {
   "cell_type": "code",
   "execution_count": 121,
   "metadata": {},
   "outputs": [
    {
     "data": {
      "text/plain": [
       "{'oob_score': True,\n",
       " 'n_estimators': 40,\n",
       " 'min_samples_split': 2,\n",
       " 'min_samples_leaf': 1,\n",
       " 'max_features': 'auto',\n",
       " 'max_depth': 34,\n",
       " 'bootstrap': True}"
      ]
     },
     "execution_count": 121,
     "metadata": {},
     "output_type": "execute_result"
    }
   ],
   "source": [
    "rc_random.best_params_"
   ]
  },
  {
   "cell_type": "code",
   "execution_count": 170,
   "metadata": {},
   "outputs": [],
   "source": [
    "clf2 = RandomForestClassifier(\n",
    "                              oob_score=True,\n",
    "                              max_depth = 34,\n",
    "                              n_estimators=40,\n",
    "                              random_state=0,\n",
    "                              max_features='auto',\n",
    "                              bootstrap=True,\n",
    "                              min_samples_leaf=1,\n",
    "                              min_samples_split=2)"
   ]
  },
  {
   "cell_type": "code",
   "execution_count": 37,
   "metadata": {},
   "outputs": [],
   "source": [
    "multi_target_forest = MultiOutputClassifier(clf2, n_jobs=-1)"
   ]
  },
  {
   "cell_type": "code",
   "execution_count": 100,
   "metadata": {},
   "outputs": [],
   "source": [
    "clf2 = BaggingClassifier(oob_score=True,\n",
    "                              n_estimators= 40,\n",
    "                              random_state=0,\n",
    "                              bootstrap=True)"
   ]
  },
  {
   "cell_type": "code",
   "execution_count": 261,
   "metadata": {},
   "outputs": [
    {
     "data": {
      "text/plain": [
       "RandomForestClassifier(bootstrap=True, ccp_alpha=0.0, class_weight=None,\n",
       "                       criterion='gini', max_depth=34, max_features='auto',\n",
       "                       max_leaf_nodes=None, max_samples=None,\n",
       "                       min_impurity_decrease=0.0, min_impurity_split=None,\n",
       "                       min_samples_leaf=1, min_samples_split=2,\n",
       "                       min_weight_fraction_leaf=0.0, n_estimators=40,\n",
       "                       n_jobs=None, oob_score=True, random_state=0, verbose=0,\n",
       "                       warm_start=False)"
      ]
     },
     "execution_count": 261,
     "metadata": {},
     "output_type": "execute_result"
    }
   ],
   "source": [
    "clf2.fit(X_train, y_train)"
   ]
  },
  {
   "cell_type": "code",
   "execution_count": 262,
   "metadata": {},
   "outputs": [
    {
     "name": "stdout",
     "output_type": "stream",
     "text": [
      "{'bootstrap': True,\n",
      " 'ccp_alpha': 0.0,\n",
      " 'class_weight': None,\n",
      " 'criterion': 'gini',\n",
      " 'max_depth': 34,\n",
      " 'max_features': 'auto',\n",
      " 'max_leaf_nodes': None,\n",
      " 'max_samples': None,\n",
      " 'min_impurity_decrease': 0.0,\n",
      " 'min_impurity_split': None,\n",
      " 'min_samples_leaf': 1,\n",
      " 'min_samples_split': 2,\n",
      " 'min_weight_fraction_leaf': 0.0,\n",
      " 'n_estimators': 40,\n",
      " 'n_jobs': None,\n",
      " 'oob_score': True,\n",
      " 'random_state': 0,\n",
      " 'verbose': 0,\n",
      " 'warm_start': False}\n"
     ]
    },
    {
     "data": {
      "image/png": "[encoded data removed]",
      "text/plain": [
       "<Figure size 432x288 with 1 Axes>"
      ]
     },
     "metadata": {
      "needs_background": "light"
     },
     "output_type": "display_data"
    }
   ],
   "source": [
    "features = X_train.columns.values\n",
    "importances = clf2.feature_importances_\n",
    "indices = np.argsort(importances)\n",
    "pprint(clf2.get_params())\n",
    "plt.title('Feature Importances')\n",
    "plt.barh(range(len(indices)), importances[indices], color='#8f63f4', align='center')\n",
    "plt.yticks(range(len(indices)), features[indices])\n",
    "plt.xlabel('Relative Importance')\n",
    "plt.show()"
   ]
  },
  {
   "cell_type": "code",
   "execution_count": 263,
   "metadata": {},
   "outputs": [
    {
     "data": {
      "text/plain": [
       "0.9636664460622104"
      ]
     },
     "execution_count": 263,
     "metadata": {},
     "output_type": "execute_result"
    }
   ],
   "source": [
    "clf2.score(X_test, y_test)"
   ]
  },
  {
   "cell_type": "code",
   "execution_count": 175,
   "metadata": {},
   "outputs": [],
   "source": [
    "results_non_cust = clf2.predict(df_test_noncust)"
   ]
  },
  {
   "cell_type": "code",
   "execution_count": 181,
   "metadata": {},
   "outputs": [],
   "source": [
    "results_cust = clf2.predict(df_test_cust)"
   ]
  },
  {
   "cell_type": "markdown",
   "metadata": {},
   "source": [
    "## Get results as csv\n",
    "\n",
    "1. I create a dataframe with the sessionsID from the test dataset and join it to the results to get a dataframe `\"sessionId\",\"order\"`. Then we have to  flatten the sessionIds are we get duplicates. \n",
    "1. I  sort by order , 1s would be first for a given session ID and then drop all the duplicates\n",
    "1. I then convert the 1 to y and 0 to n for oder\n",
    "1. last step is writing out to a csv file"
   ]
  },
  {
   "cell_type": "code",
   "execution_count": 232,
   "metadata": {},
   "outputs": [
    {
     "name": "stdout",
     "output_type": "stream",
     "text": [
      "5111\n"
     ]
    },
    {
     "data": {
      "text/html": [
       "<div>\n",
       "<style scoped>\n",
       "    .dataframe tbody tr th:only-of-type {\n",
       "        vertical-align: middle;\n",
       "    }\n",
       "\n",
       "    .dataframe tbody tr th {\n",
       "        vertical-align: top;\n",
       "    }\n",
       "\n",
       "    .dataframe thead th {\n",
       "        text-align: right;\n",
       "    }\n",
       "</style>\n",
       "<table border=\"1\" class=\"dataframe\">\n",
       "  <thead>\n",
       "    <tr style=\"text-align: right;\">\n",
       "      <th></th>\n",
       "      <th>sessionID</th>\n",
       "      <th>order</th>\n",
       "    </tr>\n",
       "  </thead>\n",
       "  <tbody>\n",
       "    <tr>\n",
       "      <th>2543</th>\n",
       "      <td>50001</td>\n",
       "      <td>y</td>\n",
       "    </tr>\n",
       "    <tr>\n",
       "      <th>2544</th>\n",
       "      <td>50002</td>\n",
       "      <td>y</td>\n",
       "    </tr>\n",
       "    <tr>\n",
       "      <th>2545</th>\n",
       "      <td>50003</td>\n",
       "      <td>y</td>\n",
       "    </tr>\n",
       "    <tr>\n",
       "      <th>2546</th>\n",
       "      <td>50004</td>\n",
       "      <td>y</td>\n",
       "    </tr>\n",
       "    <tr>\n",
       "      <th>2547</th>\n",
       "      <td>50005</td>\n",
       "      <td>n</td>\n",
       "    </tr>\n",
       "  </tbody>\n",
       "</table>\n",
       "</div>"
      ],
      "text/plain": [
       "      sessionID order\n",
       "2543  50001      y   \n",
       "2544  50002      y   \n",
       "2545  50003      y   \n",
       "2546  50004      y   \n",
       "2547  50005      n   "
      ]
     },
     "execution_count": 232,
     "metadata": {},
     "output_type": "execute_result"
    }
   ],
   "source": [
    "df_results = pd.DataFrame({\"sessionID\":df_test_noncust.sessionID, \"order_int\":results_non_cust})\n",
    "df_results.sort_values(by=['order_int'], ascending=False)\n",
    "df_dist  = df_results.drop_duplicates(subset = \"sessionID\", )\n",
    "\n",
    "df_results_cust = pd.DataFrame({\"sessionID\":df_test_cust.sessionID, \"order_int\":results_cust})\n",
    "df_results_cust.sort_values(by=['order_int'], ascending=False)\n",
    "df_dist_cust  = df_results_cust.drop_duplicates(subset = \"sessionID\", )\n",
    "\n",
    "df_dist = df_dist.append(df_dist_cust, ignore_index=True, sort=False)\n",
    "df_final = df_dist.sort_values(by=['sessionID'])\n",
    "\n",
    "df_final.sort_values(by=['order_int'], ascending=False)\n",
    "df_final  = df_final.drop_duplicates(subset = \"sessionID\", )\n",
    "\n",
    "df_final.loc[df_final['order_int']==1,'order'] = 'y'\n",
    "df_final['order'].fillna('n', inplace=True)\n",
    "df_final = df_final.drop('order_int',axis=1)\n",
    "\n",
    "df_final = df_final.sort_values(by=['sessionID'], ascending=True)\n",
    "print(len(df_final))\n",
    "df_final.head()"
   ]
  },
  {
   "cell_type": "code",
   "execution_count": 231,
   "metadata": {},
   "outputs": [],
   "source": [
    "df_final.to_csv(\"../data/results.csv\", index=False)"
   ]
  },
  {
   "cell_type": "markdown",
   "metadata": {},
   "source": [
    "## Random Ideas"
   ]
  },
  {
   "cell_type": "markdown",
   "metadata": {},
   "source": [
    "import matplotlib.pyplot as plt\n",
    "\n",
    "from collections import OrderedDict\n",
    "from sklearn.datasets import make_classification\n",
    "from sklearn.ensemble import RandomForestClassifier\n",
    "\n",
    "# Author: Kian Ho <hui.kian.ho@gmail.com>\n",
    "#         Gilles Louppe <g.louppe@gmail.com>\n",
    "#         Andreas Mueller <amueller@ais.uni-bonn.de>\n",
    "#\n",
    "# License: BSD 3 Clause\n",
    "\n",
    "print(__doc__)\n",
    "\n",
    "RANDOM_STATE = 123\n",
    "\n",
    "# NOTE: Setting the `warm_start` construction parameter to `True` disables\n",
    "# support for parallelized ensembles but is necessary for tracking the OOB\n",
    "# error trajectory during training.\n",
    "ensemble_clfs = [\n",
    "    (\"RandomForestClassifier, max_features='sqrt'\",\n",
    "        RandomForestClassifier(warm_start=True, oob_score=True,\n",
    "                               max_features=\"sqrt\",\n",
    "                               random_state=RANDOM_STATE)),\n",
    "    (\"RandomForestClassifier, max_features='log2'\",\n",
    "        RandomForestClassifier(warm_start=True, max_features='log2',\n",
    "                               oob_score=True,\n",
    "                               random_state=RANDOM_STATE)),\n",
    "    (\"RandomForestClassifier, max_features=None\",\n",
    "        RandomForestClassifier(warm_start=True, max_features=None,\n",
    "                               oob_score=True,\n",
    "                               random_state=RANDOM_STATE))\n",
    "]\n",
    "\n",
    "# Map a classifier name to a list of (<n_estimators>, <error rate>) pairs.\n",
    "error_rate = OrderedDict((label, []) for label, _ in ensemble_clfs)\n",
    "\n",
    "# Range of `n_estimators` values to explore.\n",
    "min_estimators = 30\n",
    "max_estimators = 175\n",
    "\n",
    "for label, clf in ensemble_clfs:\n",
    "    for i in range(min_estimators, max_estimators + 1):\n",
    "        clf.set_params(n_estimators=i)\n",
    "        clf.fit(X_train, y_train)\n",
    "\n",
    "        # Record the OOB error for each `n_estimators=i` setting.\n",
    "        oob_error = 1 - clf.oob_score_\n",
    "        error_rate[label].append((i, oob_error))\n",
    "\n",
    "# Generate the \"OOB error rate\" vs. \"n_estimators\" plot.\n",
    "for label, clf_err in error_rate.items():\n",
    "    xs, ys = zip(*clf_err)\n",
    "    plt.plot(xs, ys, label=label)\n",
    "\n",
    "plt.xlim(min_estimators, max_estimators)\n",
    "plt.xlabel(\"n_estimators\")\n",
    "plt.ylabel(\"OOB error rate\")\n",
    "plt.legend(loc=\"upper right\")\n",
    "plt.show()"
   ]
  },
  {
   "cell_type": "code",
   "execution_count": null,
   "metadata": {},
   "outputs": [],
   "source": [
    "import lightgbm as lgb\n",
    "from sklearn.metrics import mean_squared_error\n",
    "from sklearn.metrics import accuracy_score\n",
    "\n",
    "lgb_train=lgb.Dataset(X_train, y_train)\n",
    "lgb_eval=lgb.Dataset(X_test, y_test)\n",
    "\n",
    "params = {\n",
    "    'boosting_type': 'gbdt',\n",
    "    'objective': 'regression',\n",
    "    'metric': {'l2', 'l1'},\n",
    "    'num_leaves': 31,\n",
    "    'learning_rate': 0.05,\n",
    "    'feature_fraction': 0.9,\n",
    "    'bagging_fraction': 0.8,\n",
    "    'bagging_freq': 5,\n",
    "    'verbose': 0\n",
    "}\n",
    "\n",
    "print('Starting training...')\n",
    "# train\n",
    "gbm = lgb.train(params,\n",
    "                lgb_train,\n",
    "                num_boost_round=10,\n",
    "                valid_sets=lgb_eval,\n",
    "                early_stopping_rounds=5)\n",
    "\n",
    "print('Saving model...')\n",
    "# save model to file\n",
    "gbm.save_model('model.txt')\n",
    "\n",
    "print('Starting predicting...')\n",
    "# predict\n",
    "y_pred = gbm.predict(X_test, num_iteration=gbm.best_iteration)\n",
    "# eval\n",
    "print('The rmse of prediction is:', mean_squared_error(y_test, y_pred) ** 0.5)\n",
    "\n",
    "#print('The rmse of prediction is:', accuracy_score(y_test, y_pred))\n",
    "y_pred"
   ]
  }
 ],
 "metadata": {
  "kernelspec": {
   "display_name": "Python 3",
   "language": "python",
   "name": "python3"
  },
  "language_info": {
   "codemirror_mode": {
    "name": "ipython",
    "version": 3
   },
   "file_extension": ".py",
   "mimetype": "text/x-python",
   "name": "python",
   "nbconvert_exporter": "python",
   "pygments_lexer": "ipython3",
   "version": "3.7.6"
  }
 },
 "nbformat": 4,
 "nbformat_minor": 4
}
